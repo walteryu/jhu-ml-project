{
  "nbformat": 4,
  "nbformat_minor": 0,
  "metadata": {
    "colab": {
      "name": "jhu_08_ml_project.ipynb",
      "provenance": [],
      "collapsed_sections": []
    },
    "kernelspec": {
      "name": "ir",
      "display_name": "R"
    }
  },
  "cells": [
    {
      "cell_type": "markdown",
      "metadata": {
        "id": "zkqE5-m1RV5v"
      },
      "source": [
        "### JHU-DSCI Practical Machine Learning - Peer-graded Assignment\r\n",
        "\r\n",
        "* Name: Walter Yu\r\n",
        "* Date: January 2021\r\n",
        "\r\n",
        "### Submission Notes\r\n",
        "\r\n",
        "1. This markdown file is an analysis of the Human Activity Recognition [dataset][1.00].\r\n",
        "\r\n",
        "[1.00]: http://web.archive.org/web/20161224072740/http:/groupware.les.inf.puc-rio.br/har\r\n",
        "\r\n",
        "2. Some charts and analysis output have been commented out to minimize overall length of document. Given all the assignment questions, it was a challenge to document all my work while keeping document below 6 pages.\r\n",
        "\r\n",
        "### Assignment Instructions\r\n",
        "\r\n",
        "1. What you should submit\r\n",
        "\r\n",
        "* The goal of your project is to predict the manner in which they did the exercise. This is the \"classe\" variable in the training set. You may use any of the other variables to predict with. You should create a report describing how you built your model, how you used cross validation, what you think the expected out of sample error is, and why you made the choices you did. You will also use your prediction model to predict 20 different test cases.\r\n",
        "\r\n",
        "2. Peer Review Portion\r\n",
        "\r\n",
        "* Your submission for the Peer Review portion should consist of a link to a Github repo with your R markdown and compiled HTML file describing your analysis. Please constrain the text of the writeup to < 2000 words and the number of figures to be less than 5. It will make it easier for the graders if you submit a repo with a gh-pages branch so the HTML page can be viewed online...\r\n",
        "\r\n",
        "3. Course Project Prediction Quiz Portion\r\n",
        "\r\n",
        "* Apply your machine learning algorithm to the 20 test cases available in the test data above and submit your predictions in appropriate format to the Course Project Prediction Quiz for automated grading.\r\n"
      ]
    },
    {
      "cell_type": "code",
      "metadata": {
        "colab": {
          "base_uri": "https://localhost:8080/",
          "height": 52
        },
        "id": "MRc72vYARj3b",
        "outputId": "a9f9c239-0ea8-4252-b32a-9bbbb264dd91"
      },
      "source": [
        "# 01.00, final project: data prep\r\n",
        "\r\n",
        "# reference: download and read data\r\n",
        "# https://stackoverflow.com/questions/12460938/r-reading-in-a-zip-data-file-without-unzipping-it\r\n",
        "# har_data_subset <- read.table(\r\n",
        "#     unzip(\"http://groupware.les.inf.puc-rio.br/static/har/dataset-har-PUC-Rio-ugulino.zip\", list=TRUE)\r\n",
        "# )\r\n",
        "# har_data_subset\r\n",
        "\r\n",
        "# reference: read csv data\r\n",
        "# https://stackoverflow.com/questions/6299220/access-a-url-and-read-data-with-r\r\n",
        "har_data_subset = read.csv(\r\n",
        "    url(\"https://raw.githubusercontent.com/walteryu/jhu-ml-project/main/dataset-har-PUC-Rio-ugulino.csv\"),\r\n",
        "    sep=\";\"\r\n",
        ")\r\n",
        "dim(har_data_subset)\r\n",
        "names(har_data_subset)\r\n"
      ],
      "execution_count": 5,
      "outputs": [
        {
          "output_type": "display_data",
          "data": {
            "text/plain": [
              "[1] 165633     19"
            ],
            "text/latex": "\\begin{enumerate*}\n\\item 165633\n\\item 19\n\\end{enumerate*}\n",
            "text/markdown": "1. 165633\n2. 19\n\n\n",
            "text/html": [
              "<style>\n",
              ".list-inline {list-style: none; margin:0; padding: 0}\n",
              ".list-inline>li {display: inline-block}\n",
              ".list-inline>li:not(:last-child)::after {content: \"\\00b7\"; padding: 0 .5ex}\n",
              "</style>\n",
              "<ol class=list-inline><li>165633</li><li>19</li></ol>\n"
            ]
          },
          "metadata": {
            "tags": []
          }
        },
        {
          "output_type": "display_data",
          "data": {
            "text/plain": [
              " [1] \"user\"               \"gender\"             \"age\"               \n",
              " [4] \"how_tall_in_meters\" \"weight\"             \"body_mass_index\"   \n",
              " [7] \"x1\"                 \"y1\"                 \"z1\"                \n",
              "[10] \"x2\"                 \"y2\"                 \"z2\"                \n",
              "[13] \"x3\"                 \"y3\"                 \"z3\"                \n",
              "[16] \"x4\"                 \"y4\"                 \"z4\"                \n",
              "[19] \"class\"             "
            ],
            "text/latex": "\\begin{enumerate*}\n\\item 'user'\n\\item 'gender'\n\\item 'age'\n\\item 'how\\_tall\\_in\\_meters'\n\\item 'weight'\n\\item 'body\\_mass\\_index'\n\\item 'x1'\n\\item 'y1'\n\\item 'z1'\n\\item 'x2'\n\\item 'y2'\n\\item 'z2'\n\\item 'x3'\n\\item 'y3'\n\\item 'z3'\n\\item 'x4'\n\\item 'y4'\n\\item 'z4'\n\\item 'class'\n\\end{enumerate*}\n",
            "text/markdown": "1. 'user'\n2. 'gender'\n3. 'age'\n4. 'how_tall_in_meters'\n5. 'weight'\n6. 'body_mass_index'\n7. 'x1'\n8. 'y1'\n9. 'z1'\n10. 'x2'\n11. 'y2'\n12. 'z2'\n13. 'x3'\n14. 'y3'\n15. 'z3'\n16. 'x4'\n17. 'y4'\n18. 'z4'\n19. 'class'\n\n\n",
            "text/html": [
              "<style>\n",
              ".list-inline {list-style: none; margin:0; padding: 0}\n",
              ".list-inline>li {display: inline-block}\n",
              ".list-inline>li:not(:last-child)::after {content: \"\\00b7\"; padding: 0 .5ex}\n",
              "</style>\n",
              "<ol class=list-inline><li>'user'</li><li>'gender'</li><li>'age'</li><li>'how_tall_in_meters'</li><li>'weight'</li><li>'body_mass_index'</li><li>'x1'</li><li>'y1'</li><li>'z1'</li><li>'x2'</li><li>'y2'</li><li>'z2'</li><li>'x3'</li><li>'y3'</li><li>'z3'</li><li>'x4'</li><li>'y4'</li><li>'z4'</li><li>'class'</li></ol>\n"
            ]
          },
          "metadata": {
            "tags": []
          }
        }
      ]
    }
  ]
}